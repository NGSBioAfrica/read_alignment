{
 "cells": [
  {
   "cell_type": "markdown",
   "metadata": {},
   "source": [
    "# Read Alignment\n",
    "\n",
    "There are no questions in this section."
   ]
  },
  {
   "cell_type": "markdown",
   "metadata": {},
   "source": [
    "# Performing Read Alignment\n",
    "\n",
    "__1.__ 145441459\n",
    "\n",
    "__2.__ The sam is ~ 157M and the bam is ~ 25M \n",
    "\n",
    "__3.__ 67,461 (17.2%) or 359 + (33551 * 2)\n",
    "\n",
    "__4.__ 392,820\n",
    "\n",
    "__5.__ 391603/392820 (99.7%)\n",
    "\n",
    "__6.__ 389410\n",
    "\n",
    "__7.__ 0\n",
    "\n",
    "__8.__ 419 (mean) 113.9 (standard deviation)\n",
    "\n",
    "__9.__ 7,853 (2.0%)\n",
    "\n",
    "__10.__ First/Forward read"
   ]
  },
  {
   "cell_type": "markdown",
   "metadata": {},
   "source": [
    "# Alignment Visualisation\n",
    "\n",
    "__1.__ This exercise is just asking you to explore the genome and become familiar with navigating in IGV.\n",
    "\n",
    "__2.__ 23X-57X\n",
    "\n",
    "__3.__ \n",
    "\n",
    "There is a 1bp insertion (at \"T)\" at position 87,483,966. This is supported by 9 reads.\n",
    "\n",
    "There is a 28bp deletion at position 87,483,966.  This is supported by 3 reads.\n",
    "\n",
    "There is no third mutation here, apologies for the typo in the exercises. \n",
    "\n",
    "The CRISPR-Cas9 has acted on the zygote at this locus to create Non-Homologous-End-Join-based damage around 87,483,960: that resulted in a subclonal 1bp insertion and a 28bp deletion. \n",
    "\n",
    "__4.__\n",
    "\n",
    "You are watching the zygote DNA-repair machinery panicking and grabbing at straws."
   ]
  },
  {
   "cell_type": "markdown",
   "metadata": {},
   "source": [
    "## Alignment Workflows\n",
    "\n",
    "__1.__ -M marks shorter split hits as secondary and -R adds the read group to the header of the BAM file\n",
    "\n",
    "__2.__ -b means create a BAM as output and -S indicates that the input files is a SAM file. The -S option is now ignored by samtools as it can now autodetect the input file type.\n",
    "\n",
    "__3.__ 397506\n",
    "\n",
    "__4.__ 303036/397506 (76.2%)\n",
    "\n",
    "__5.__ 282478\n",
    "\n",
    "__6.__ 2239\n",
    "\n",
    "__7.__ 275.9 (mean) and 47.7 (standard deviation)\n",
    "\n",
    "__8.__ 23,789 (7.9%)\n",
    "\n",
    "__9.__ First\n",
    "\n",
    "__10.__ ~22M\n",
    "\n",
    "__11.__ 12399 or 3115 + (4642 * 2) \n",
    "\n",
    "__12.__ 2%\n",
    "\n",
    "## Exercises\n",
    "\n",
    "__1.__ No answer\n",
    "\n",
    "__2.__ The reference base is C\n",
    "\n",
    "__3.__ No (the reads call T)\n",
    "\n",
    "__4.__ The reference base is G and all reads agree\n",
    "\n",
    "__5.__ No answer\n",
    "\n",
    "__6.__ An insertion\n",
    "\n",
    "__7.__ No answer\n",
    "\n",
    "__8.__ A deletion. This is unlikely to be a true variant and may be due to misalignment due the run of T's in the flanking region.\n",
    "\n",
    "__9.__ The following command procuces a cram file which should be ~29MB in size.\n",
    "\n",
    "`samtools view -C -T ../../../ref/Saccharomyces_cerevisiae.R64-1-1.dna.toplevel.fa -o library1.markdup.cram library1.markdup.bam`\n",
    "\n",
    "-C means create a CRAM file as output\n",
    "\n",
    "-T is the reference file to use for the compression\n",
    "\n",
    "-o is the name of CRAM file to create"
   ]
  }
 ],
 "metadata": {
  "kernelspec": {
   "display_name": "Bash",
   "language": "bash",
   "name": "bash"
  },
  "language_info": {
   "codemirror_mode": "shell",
   "file_extension": ".sh",
   "mimetype": "text/x-sh",
   "name": "bash"
  }
 },
 "nbformat": 4,
 "nbformat_minor": 2
}
